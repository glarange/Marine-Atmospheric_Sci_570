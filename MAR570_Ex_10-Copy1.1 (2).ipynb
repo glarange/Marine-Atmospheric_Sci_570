{
 "cells": [
  {
   "cell_type": "markdown",
   "metadata": {},
   "source": [
    "## SBU - MAR 570 - Fall 2019 - D. Wilks Textbook, 3d ed.\n",
    "### Gui Larangeira\n",
    "#### Example 10.1"
   ]
  },
  {
   "cell_type": "code",
   "execution_count": 19,
   "metadata": {},
   "outputs": [
    {
     "data": {
      "text/plain": [
       "'C:\\\\Users\\\\Glarange\\\\Google Drive\\\\Stony\\\\MAR_570'"
      ]
     },
     "execution_count": 19,
     "metadata": {},
     "output_type": "execute_result"
    }
   ],
   "source": [
    "import matplotlib.pyplot as plt\n",
    "import requests\n",
    "import pandas as pd\n",
    "import os\n",
    "import numpy as np\n",
    "from scipy.linalg import inv, solve, det, norm\n",
    "from numpy import linalg\n",
    "import statistics as stats\n",
    "\n",
    "%pwd"
   ]
  },
  {
   "cell_type": "code",
   "execution_count": 5,
   "metadata": {},
   "outputs": [
    {
     "data": {
      "text/plain": [
       "'C:\\\\Users\\\\Glarange\\\\Google Drive\\\\Stony\\\\MAR_570'"
      ]
     },
     "execution_count": 5,
     "metadata": {},
     "output_type": "execute_result"
    }
   ],
   "source": [
    "os.chdir(\"C:/Users/Glarange/Google Drive/Stony/MAR_570\")\n",
    "%pwd"
   ]
  },
  {
   "cell_type": "code",
   "execution_count": 6,
   "metadata": {},
   "outputs": [
    {
     "data": {
      "text/plain": [
       "array([[ 0.00e+00,  3.30e+01,  1.90e+01,  0.00e+00,  3.40e+01,  2.80e+01],\n",
       "       [ 7.00e-02,  3.20e+01,  2.50e+01,  4.00e-02,  3.60e+01,  2.80e+01],\n",
       "       [ 1.11e+00,  3.00e+01,  2.20e+01,  8.40e-01,  3.00e+01,  2.60e+01],\n",
       "       [ 0.00e+00,  2.90e+01, -1.00e+00,  0.00e+00,  2.90e+01,  1.90e+01],\n",
       "       [ 0.00e+00,  2.50e+01,  4.00e+00,  0.00e+00,  3.00e+01,  1.60e+01],\n",
       "       [ 0.00e+00,  3.00e+01,  1.40e+01,  0.00e+00,  3.50e+01,  2.40e+01],\n",
       "       [ 0.00e+00,  3.70e+01,  2.10e+01,  2.00e-02,  4.40e+01,  2.60e+01],\n",
       "       [ 4.00e-02,  3.70e+01,  2.20e+01,  5.00e-02,  3.80e+01,  2.40e+01],\n",
       "       [ 2.00e-02,  2.90e+01,  2.30e+01,  1.00e-02,  3.10e+01,  2.40e+01],\n",
       "       [ 5.00e-02,  3.00e+01,  2.70e+01,  9.00e-02,  3.30e+01,  2.90e+01],\n",
       "       [ 3.40e-01,  3.60e+01,  2.90e+01,  1.80e-01,  3.90e+01,  2.90e+01],\n",
       "       [ 6.00e-02,  3.20e+01,  2.50e+01,  4.00e-02,  3.30e+01,  2.70e+01],\n",
       "       [ 1.80e-01,  3.30e+01,  2.90e+01,  4.00e-02,  3.40e+01,  3.10e+01],\n",
       "       [ 2.00e-02,  3.40e+01,  1.50e+01,  0.00e+00,  3.90e+01,  2.60e+01],\n",
       "       [ 2.00e-02,  5.30e+01,  2.90e+01,  6.00e-02,  5.10e+01,  3.80e+01],\n",
       "       [ 0.00e+00,  4.50e+01,  2.40e+01,  3.00e-02,  4.40e+01,  2.30e+01],\n",
       "       [ 0.00e+00,  2.50e+01,  0.00e+00,  4.00e-02,  2.50e+01,  1.30e+01],\n",
       "       [ 0.00e+00,  2.80e+01,  2.00e+00,  0.00e+00,  3.40e+01,  1.40e+01],\n",
       "       [ 0.00e+00,  3.20e+01,  2.60e+01,  0.00e+00,  3.60e+01,  2.80e+01],\n",
       "       [ 4.50e-01,  2.70e+01,  1.70e+01,  3.50e-01,  2.90e+01,  1.90e+01],\n",
       "       [ 0.00e+00,  2.60e+01,  1.90e+01,  2.00e-02,  2.70e+01,  1.90e+01],\n",
       "       [ 0.00e+00,  2.80e+01,  9.00e+00,  1.00e-02,  2.90e+01,  1.70e+01],\n",
       "       [ 7.00e-01,  2.40e+01,  2.00e+01,  3.50e-01,  2.70e+01,  2.20e+01],\n",
       "       [ 0.00e+00,  2.60e+01, -6.00e+00,  8.00e-02,  2.40e+01,  2.00e+00],\n",
       "       [ 0.00e+00,  9.00e+00, -1.30e+01,  0.00e+00,  1.10e+01,  4.00e+00],\n",
       "       [ 0.00e+00,  2.20e+01, -1.30e+01,  0.00e+00,  2.10e+01,  5.00e+00],\n",
       "       [ 0.00e+00,  1.70e+01, -1.10e+01,  0.00e+00,  1.90e+01,  7.00e+00],\n",
       "       [ 0.00e+00,  2.60e+01, -4.00e+00,  0.00e+00,  2.60e+01,  8.00e+00],\n",
       "       [ 1.00e-02,  2.70e+01, -4.00e+00,  1.00e-02,  2.80e+01,  1.40e+01],\n",
       "       [ 3.00e-02,  3.00e+01,  1.10e+01,  1.00e-02,  3.10e+01,  1.40e+01],\n",
       "       [ 5.00e-02,  3.40e+01,  2.30e+01,  1.30e-01,  3.80e+01,  2.30e+01]])"
      ]
     },
     "execution_count": 6,
     "metadata": {},
     "output_type": "execute_result"
    }
   ],
   "source": [
    "df = pd.read_csv(\"C:/Users/Glarange/Google Drive/Stony/MAR_570/A1.csv\")\n",
    "X = df.drop(df.columns[0], axis=1)\n",
    "X = X.values\n",
    "X"
   ]
  },
  {
   "cell_type": "code",
   "execution_count": 45,
   "metadata": {},
   "outputs": [
    {
     "data": {
      "text/html": [
       "<div>\n",
       "<style scoped>\n",
       "    .dataframe tbody tr th:only-of-type {\n",
       "        vertical-align: middle;\n",
       "    }\n",
       "\n",
       "    .dataframe tbody tr th {\n",
       "        vertical-align: top;\n",
       "    }\n",
       "\n",
       "    .dataframe thead th {\n",
       "        text-align: right;\n",
       "    }\n",
       "</style>\n",
       "<table border=\"1\" class=\"dataframe\">\n",
       "  <thead>\n",
       "    <tr style=\"text-align: right;\">\n",
       "      <th></th>\n",
       "      <th>Ithica precip</th>\n",
       "      <th>Ithica maxT</th>\n",
       "      <th>Ithica minT</th>\n",
       "      <th>Canan precip</th>\n",
       "      <th>Canan maxT</th>\n",
       "      <th>Canan minT</th>\n",
       "    </tr>\n",
       "  </thead>\n",
       "  <tbody>\n",
       "    <tr>\n",
       "      <th>0</th>\n",
       "      <td>0.00</td>\n",
       "      <td>33</td>\n",
       "      <td>19</td>\n",
       "      <td>0.00</td>\n",
       "      <td>34</td>\n",
       "      <td>28</td>\n",
       "    </tr>\n",
       "    <tr>\n",
       "      <th>1</th>\n",
       "      <td>0.07</td>\n",
       "      <td>32</td>\n",
       "      <td>25</td>\n",
       "      <td>0.04</td>\n",
       "      <td>36</td>\n",
       "      <td>28</td>\n",
       "    </tr>\n",
       "    <tr>\n",
       "      <th>2</th>\n",
       "      <td>1.11</td>\n",
       "      <td>30</td>\n",
       "      <td>22</td>\n",
       "      <td>0.84</td>\n",
       "      <td>30</td>\n",
       "      <td>26</td>\n",
       "    </tr>\n",
       "    <tr>\n",
       "      <th>3</th>\n",
       "      <td>0.00</td>\n",
       "      <td>29</td>\n",
       "      <td>-1</td>\n",
       "      <td>0.00</td>\n",
       "      <td>29</td>\n",
       "      <td>19</td>\n",
       "    </tr>\n",
       "    <tr>\n",
       "      <th>4</th>\n",
       "      <td>0.00</td>\n",
       "      <td>25</td>\n",
       "      <td>4</td>\n",
       "      <td>0.00</td>\n",
       "      <td>30</td>\n",
       "      <td>16</td>\n",
       "    </tr>\n",
       "    <tr>\n",
       "      <th>5</th>\n",
       "      <td>0.00</td>\n",
       "      <td>30</td>\n",
       "      <td>14</td>\n",
       "      <td>0.00</td>\n",
       "      <td>35</td>\n",
       "      <td>24</td>\n",
       "    </tr>\n",
       "    <tr>\n",
       "      <th>6</th>\n",
       "      <td>0.00</td>\n",
       "      <td>37</td>\n",
       "      <td>21</td>\n",
       "      <td>0.02</td>\n",
       "      <td>44</td>\n",
       "      <td>26</td>\n",
       "    </tr>\n",
       "    <tr>\n",
       "      <th>7</th>\n",
       "      <td>0.04</td>\n",
       "      <td>37</td>\n",
       "      <td>22</td>\n",
       "      <td>0.05</td>\n",
       "      <td>38</td>\n",
       "      <td>24</td>\n",
       "    </tr>\n",
       "    <tr>\n",
       "      <th>8</th>\n",
       "      <td>0.02</td>\n",
       "      <td>29</td>\n",
       "      <td>23</td>\n",
       "      <td>0.01</td>\n",
       "      <td>31</td>\n",
       "      <td>24</td>\n",
       "    </tr>\n",
       "    <tr>\n",
       "      <th>9</th>\n",
       "      <td>0.05</td>\n",
       "      <td>30</td>\n",
       "      <td>27</td>\n",
       "      <td>0.09</td>\n",
       "      <td>33</td>\n",
       "      <td>29</td>\n",
       "    </tr>\n",
       "    <tr>\n",
       "      <th>10</th>\n",
       "      <td>0.34</td>\n",
       "      <td>36</td>\n",
       "      <td>29</td>\n",
       "      <td>0.18</td>\n",
       "      <td>39</td>\n",
       "      <td>29</td>\n",
       "    </tr>\n",
       "    <tr>\n",
       "      <th>11</th>\n",
       "      <td>0.06</td>\n",
       "      <td>32</td>\n",
       "      <td>25</td>\n",
       "      <td>0.04</td>\n",
       "      <td>33</td>\n",
       "      <td>27</td>\n",
       "    </tr>\n",
       "    <tr>\n",
       "      <th>12</th>\n",
       "      <td>0.18</td>\n",
       "      <td>33</td>\n",
       "      <td>29</td>\n",
       "      <td>0.04</td>\n",
       "      <td>34</td>\n",
       "      <td>31</td>\n",
       "    </tr>\n",
       "    <tr>\n",
       "      <th>13</th>\n",
       "      <td>0.02</td>\n",
       "      <td>34</td>\n",
       "      <td>15</td>\n",
       "      <td>0.00</td>\n",
       "      <td>39</td>\n",
       "      <td>26</td>\n",
       "    </tr>\n",
       "    <tr>\n",
       "      <th>14</th>\n",
       "      <td>0.02</td>\n",
       "      <td>53</td>\n",
       "      <td>29</td>\n",
       "      <td>0.06</td>\n",
       "      <td>51</td>\n",
       "      <td>38</td>\n",
       "    </tr>\n",
       "    <tr>\n",
       "      <th>15</th>\n",
       "      <td>0.00</td>\n",
       "      <td>45</td>\n",
       "      <td>24</td>\n",
       "      <td>0.03</td>\n",
       "      <td>44</td>\n",
       "      <td>23</td>\n",
       "    </tr>\n",
       "    <tr>\n",
       "      <th>16</th>\n",
       "      <td>0.00</td>\n",
       "      <td>25</td>\n",
       "      <td>0</td>\n",
       "      <td>0.04</td>\n",
       "      <td>25</td>\n",
       "      <td>13</td>\n",
       "    </tr>\n",
       "    <tr>\n",
       "      <th>17</th>\n",
       "      <td>0.00</td>\n",
       "      <td>28</td>\n",
       "      <td>2</td>\n",
       "      <td>0.00</td>\n",
       "      <td>34</td>\n",
       "      <td>14</td>\n",
       "    </tr>\n",
       "    <tr>\n",
       "      <th>18</th>\n",
       "      <td>0.00</td>\n",
       "      <td>32</td>\n",
       "      <td>26</td>\n",
       "      <td>0.00</td>\n",
       "      <td>36</td>\n",
       "      <td>28</td>\n",
       "    </tr>\n",
       "    <tr>\n",
       "      <th>19</th>\n",
       "      <td>0.45</td>\n",
       "      <td>27</td>\n",
       "      <td>17</td>\n",
       "      <td>0.35</td>\n",
       "      <td>29</td>\n",
       "      <td>19</td>\n",
       "    </tr>\n",
       "    <tr>\n",
       "      <th>20</th>\n",
       "      <td>0.00</td>\n",
       "      <td>26</td>\n",
       "      <td>19</td>\n",
       "      <td>0.02</td>\n",
       "      <td>27</td>\n",
       "      <td>19</td>\n",
       "    </tr>\n",
       "    <tr>\n",
       "      <th>21</th>\n",
       "      <td>0.00</td>\n",
       "      <td>28</td>\n",
       "      <td>9</td>\n",
       "      <td>0.01</td>\n",
       "      <td>29</td>\n",
       "      <td>17</td>\n",
       "    </tr>\n",
       "    <tr>\n",
       "      <th>22</th>\n",
       "      <td>0.70</td>\n",
       "      <td>24</td>\n",
       "      <td>20</td>\n",
       "      <td>0.35</td>\n",
       "      <td>27</td>\n",
       "      <td>22</td>\n",
       "    </tr>\n",
       "    <tr>\n",
       "      <th>23</th>\n",
       "      <td>0.00</td>\n",
       "      <td>26</td>\n",
       "      <td>-6</td>\n",
       "      <td>0.08</td>\n",
       "      <td>24</td>\n",
       "      <td>2</td>\n",
       "    </tr>\n",
       "    <tr>\n",
       "      <th>24</th>\n",
       "      <td>0.00</td>\n",
       "      <td>9</td>\n",
       "      <td>-13</td>\n",
       "      <td>0.00</td>\n",
       "      <td>11</td>\n",
       "      <td>4</td>\n",
       "    </tr>\n",
       "    <tr>\n",
       "      <th>25</th>\n",
       "      <td>0.00</td>\n",
       "      <td>22</td>\n",
       "      <td>-13</td>\n",
       "      <td>0.00</td>\n",
       "      <td>21</td>\n",
       "      <td>5</td>\n",
       "    </tr>\n",
       "    <tr>\n",
       "      <th>26</th>\n",
       "      <td>0.00</td>\n",
       "      <td>17</td>\n",
       "      <td>-11</td>\n",
       "      <td>0.00</td>\n",
       "      <td>19</td>\n",
       "      <td>7</td>\n",
       "    </tr>\n",
       "    <tr>\n",
       "      <th>27</th>\n",
       "      <td>0.00</td>\n",
       "      <td>26</td>\n",
       "      <td>-4</td>\n",
       "      <td>0.00</td>\n",
       "      <td>26</td>\n",
       "      <td>8</td>\n",
       "    </tr>\n",
       "    <tr>\n",
       "      <th>28</th>\n",
       "      <td>0.01</td>\n",
       "      <td>27</td>\n",
       "      <td>-4</td>\n",
       "      <td>0.01</td>\n",
       "      <td>28</td>\n",
       "      <td>14</td>\n",
       "    </tr>\n",
       "    <tr>\n",
       "      <th>29</th>\n",
       "      <td>0.03</td>\n",
       "      <td>30</td>\n",
       "      <td>11</td>\n",
       "      <td>0.01</td>\n",
       "      <td>31</td>\n",
       "      <td>14</td>\n",
       "    </tr>\n",
       "    <tr>\n",
       "      <th>30</th>\n",
       "      <td>0.05</td>\n",
       "      <td>34</td>\n",
       "      <td>23</td>\n",
       "      <td>0.13</td>\n",
       "      <td>38</td>\n",
       "      <td>23</td>\n",
       "    </tr>\n",
       "  </tbody>\n",
       "</table>\n",
       "</div>"
      ],
      "text/plain": [
       "    Ithica precip  Ithica maxT  Ithica minT  Canan precip  Canan maxT  \\\n",
       "0            0.00           33           19          0.00          34   \n",
       "1            0.07           32           25          0.04          36   \n",
       "2            1.11           30           22          0.84          30   \n",
       "3            0.00           29           -1          0.00          29   \n",
       "4            0.00           25            4          0.00          30   \n",
       "5            0.00           30           14          0.00          35   \n",
       "6            0.00           37           21          0.02          44   \n",
       "7            0.04           37           22          0.05          38   \n",
       "8            0.02           29           23          0.01          31   \n",
       "9            0.05           30           27          0.09          33   \n",
       "10           0.34           36           29          0.18          39   \n",
       "11           0.06           32           25          0.04          33   \n",
       "12           0.18           33           29          0.04          34   \n",
       "13           0.02           34           15          0.00          39   \n",
       "14           0.02           53           29          0.06          51   \n",
       "15           0.00           45           24          0.03          44   \n",
       "16           0.00           25            0          0.04          25   \n",
       "17           0.00           28            2          0.00          34   \n",
       "18           0.00           32           26          0.00          36   \n",
       "19           0.45           27           17          0.35          29   \n",
       "20           0.00           26           19          0.02          27   \n",
       "21           0.00           28            9          0.01          29   \n",
       "22           0.70           24           20          0.35          27   \n",
       "23           0.00           26           -6          0.08          24   \n",
       "24           0.00            9          -13          0.00          11   \n",
       "25           0.00           22          -13          0.00          21   \n",
       "26           0.00           17          -11          0.00          19   \n",
       "27           0.00           26           -4          0.00          26   \n",
       "28           0.01           27           -4          0.01          28   \n",
       "29           0.03           30           11          0.01          31   \n",
       "30           0.05           34           23          0.13          38   \n",
       "\n",
       "    Canan minT  \n",
       "0           28  \n",
       "1           28  \n",
       "2           26  \n",
       "3           19  \n",
       "4           16  \n",
       "5           24  \n",
       "6           26  \n",
       "7           24  \n",
       "8           24  \n",
       "9           29  \n",
       "10          29  \n",
       "11          27  \n",
       "12          31  \n",
       "13          26  \n",
       "14          38  \n",
       "15          23  \n",
       "16          13  \n",
       "17          14  \n",
       "18          28  \n",
       "19          19  \n",
       "20          19  \n",
       "21          17  \n",
       "22          22  \n",
       "23           2  \n",
       "24           4  \n",
       "25           5  \n",
       "26           7  \n",
       "27           8  \n",
       "28          14  \n",
       "29          14  \n",
       "30          23  "
      ]
     },
     "execution_count": 45,
     "metadata": {},
     "output_type": "execute_result"
    }
   ],
   "source": []
  },
  {
   "cell_type": "markdown",
   "metadata": {},
   "source": [
    "%COVARIANCE\n",
    "%Consider the covariance between observations at the two stations in A.1\n",
    "\n",
    "%Form a data matrix [X] [31x6] where rows are time and columns are obs\n",
    "X=[Ithicaprecip,IthicamaxT,IthicaminT,Cananprecip,CananmaxT,CananminT];\n",
    "\n",
    "%Must demean [X] according to 10.4\n",
    "   Xdm  =    X   -  ones(31) * X/31; %10.29\n",
    "%[31x6] =  [6x31]  [31x31]   [31x6] \n",
    "\n",
    " %Compute covariance matrix [S] according to 10.30\n",
    "   S  =    Xdm' *  Xdm/(31-1);\n",
    "%[6x6]=   [6x31]  [31x6]\n",
    "\n",
    "% S =\n",
    "% \n",
    "%    5.8994e-02  -4.4452e-02   9.4867e-01   3.9314e-02  -7.5290e-02   4.6662e-01\n",
    "%   -4.4452e-02   5.9516e+01   7.5433e+01   2.3323e-02   5.8070e+01   5.1697e+01\n",
    "%    9.4867e-01   7.5433e+01   1.8547e+02   6.1000e-01   8.1633e+01   1.1080e+02\n",
    "%    3.9314e-02   2.3323e-02   6.1000e-01   2.8106e-02  -1.9935e-02   2.7827e-01\n",
    "%   -7.5290e-02   5.8070e+01   8.1633e+01  -1.9935e-02   6.1847e+01   5.6119e+01\n",
    "%    4.6662e-01   5.1697e+01   1.1080e+02   2.7827e-01   5.6119e+01   7.7581e+01\n"
   ]
  },
  {
   "cell_type": "code",
   "execution_count": 7,
   "metadata": {},
   "outputs": [
    {
     "data": {
      "text/plain": [
       "array([[ 5.89939785e-02, -4.44516129e-02,  9.48666667e-01,\n",
       "         3.93143011e-02, -7.52903226e-02,  4.66623656e-01],\n",
       "       [-4.44516129e-02,  5.95161290e+01,  7.54333333e+01,\n",
       "         2.33225806e-02,  5.80698925e+01,  5.16967742e+01],\n",
       "       [ 9.48666667e-01,  7.54333333e+01,  1.85466667e+02,\n",
       "         6.10000000e-01,  8.16333333e+01,  1.10800000e+02],\n",
       "       [ 3.93143011e-02,  2.33225806e-02,  6.10000000e-01,\n",
       "         2.81064516e-02, -1.99354839e-02,  2.78268817e-01],\n",
       "       [-7.52903226e-02,  5.80698925e+01,  8.16333333e+01,\n",
       "        -1.99354839e-02,  6.18473118e+01,  5.61193548e+01],\n",
       "       [ 4.66623656e-01,  5.16967742e+01,  1.10800000e+02,\n",
       "         2.78268817e-01,  5.61193548e+01,  7.75806452e+01]])"
      ]
     },
     "execution_count": 7,
     "metadata": {},
     "output_type": "execute_result"
    }
   ],
   "source": [
    "X.shape\n",
    "ones = np.ones((31,31))\n",
    "\n",
    "X_dm = X - ones @ X/31\n",
    "\n",
    "S = X_dm.transpose() @ X_dm/(31-1)\n",
    "# The Covariance Matrix is\n",
    "S"
   ]
  },
  {
   "cell_type": "markdown",
   "metadata": {},
   "source": [
    "#### Example 12.1"
   ]
  },
  {
   "cell_type": "code",
   "execution_count": 122,
   "metadata": {},
   "outputs": [],
   "source": [
    "x_1 = X[:,2] \n",
    "x_2 = X[:,5]\n",
    "# de-mean\n",
    "xp_1 = x_1 - stats.mean(x_1)\n",
    "xp_2 = x_2 - stats. mean(x_2)\n",
    "xp = np.column_stack((xp_1,xp_2))"
   ]
  },
  {
   "cell_type": "code",
   "execution_count": 141,
   "metadata": {},
   "outputs": [
    {
     "data": {
      "text/plain": [
       "<matplotlib.collections.PathCollection at 0xcf26ba8>"
      ]
     },
     "execution_count": 141,
     "metadata": {},
     "output_type": "execute_result"
    },
    {
     "data": {
      "image/png": "[encoded data removed]",
      "text/plain": [
       "<Figure size 432x288 with 1 Axes>"
      ]
     },
     "metadata": {},
     "output_type": "display_data"
    }
   ],
   "source": [
    "fig1, ax1 = plt.subplots()\n",
    "ax1.set_title(\"Canan vs. Ithaca anomalies\")\n",
    "ax1.set_xlabel(\"Ithaca min. temp. anomaly, x_1p, deg. F\")\n",
    "plt.scatter(xp_1,xp_2)"
   ]
  },
  {
   "cell_type": "code",
   "execution_count": 140,
   "metadata": {},
   "outputs": [
    {
     "data": {
      "text/plain": [
       "array([[185.46666667, 110.8       ],\n",
       "       [110.8       ,  77.58064516]])"
      ]
     },
     "execution_count": 140,
     "metadata": {},
     "output_type": "execute_result"
    }
   ],
   "source": [
    "d = xp.shape[0]\n",
    "ones = np.ones((d,d))\n",
    "\n",
    "xt = xp - ones @ xp/d\n",
    "\n",
    "St = xt.transpose() @ xt/(d-1)\n",
    "# The Covariance Matrix is\n",
    "St"
   ]
  },
  {
   "cell_type": "code",
   "execution_count": 188,
   "metadata": {},
   "outputs": [
    {
     "data": {
      "text/plain": [
       "(array([254.75712705,   8.29018477]), array([[ 0.84785912, -0.53022156],\n",
       "        [ 0.53022156,  0.84785912]]))"
      ]
     },
     "execution_count": 188,
     "metadata": {},
     "output_type": "execute_result"
    }
   ],
   "source": [
    "e = linalg.eig(St)\n",
    "ev = e[0]\n",
    "eigval_1 = ev[0]\n",
    "eigval_2 = ev[1]\n",
    "eigvec = e[1]\n",
    "e_1 = eigvec[:,0]\n",
    "e_2 = eigvec[:,1]\n",
    "u = eigvec.transpose() @ xp.transpose()\n",
    "e"
   ]
  },
  {
   "cell_type": "code",
   "execution_count": 183,
   "metadata": {},
   "outputs": [
    {
     "name": "stdout",
     "output_type": "stream",
     "text": [
      "0.9684840543818084\n",
      "(2, 31)\n"
     ]
    }
   ],
   "source": [
    "print(eigval_1/(eigval_1 + eigval_2))\n",
    "print(u.shape)"
   ]
  },
  {
   "cell_type": "code",
   "execution_count": 184,
   "metadata": {},
   "outputs": [],
   "source": [
    "t = np.arange(1,32)\n",
    "xpr_1 = e_1[0] * u[0] \n",
    "xpr_2 = e_1[1] * u[0]"
   ]
  },
  {
   "cell_type": "code",
   "execution_count": 187,
   "metadata": {},
   "outputs": [
    {
     "data": {
      "text/plain": [
       "(-30, 30)"
      ]
     },
     "execution_count": 187,
     "metadata": {},
     "output_type": "execute_result"
    },
    {
     "data": {
      "image/png": "[encoded data removed]",
      "text/plain": [
       "<Figure size 720x288 with 1 Axes>"
      ]
     },
     "metadata": {},
     "output_type": "display_data"
    },
    {
     "data": {
      "image/png": "[encoded data removed]",
      "text/plain": [
       "<Figure size 720x288 with 1 Axes>"
      ]
     },
     "metadata": {},
     "output_type": "display_data"
    }
   ],
   "source": [
    "#plt.plot(XT_p1)\n",
    "fig2, ax2 = plt.subplots(figsize=(10,4))\n",
    "\n",
    "ax2.set_title(\"Ithaca anomalies\")\n",
    "ax2.set_xlabel(\"Day\")\n",
    "ax2.set_ylabel(\"degree Fahrenheit\")\n",
    "ax2.plot(t, xp_1, label = 'actual')\n",
    "ax2.plot(t, xpr_1, label = 'PCA reconstructed 1st term')\n",
    "ax2.legend()\n",
    "plt.ylim(-30,30)\n",
    "fig3, ax3 = plt.subplots(figsize=(10,4))\n",
    "ax3.set_title(\"Canan anomalies\")\n",
    "ax3.set_xlabel(\"Day\")\n",
    "ax3.set_ylabel(\"degree Fahrenheit\")\n",
    "ax3.plot(t, xp_2, label = 'actual')\n",
    "ax3.plot(t, xpr_2, label = 'PCA reconstructed 1st term')\n",
    "ax3.legend()\n",
    "plt.ylim(-30,30)"
   ]
  },
  {
   "cell_type": "code",
   "execution_count": 196,
   "metadata": {},
   "outputs": [
    {
     "name": "stdout",
     "output_type": "stream",
     "text": [
      "0.994\n",
      "0.961\n"
     ]
    }
   ],
   "source": [
    "from scipy.stats.stats import pearsonr  \n",
    "print(round(pearsonr(xp_1,xpr_1)[0],3))\n",
    "print(round(pearsonr(xp_2,xpr_2)[0],3))"
   ]
  }
 ],
 "metadata": {
  "kernelspec": {
   "display_name": "Python 3",
   "language": "python",
   "name": "python3"
  },
  "language_info": {
   "codemirror_mode": {
    "name": "ipython",
    "version": 3
   },
   "file_extension": ".py",
   "mimetype": "text/x-python",
   "name": "python",
   "nbconvert_exporter": "python",
   "pygments_lexer": "ipython3",
   "version": "3.6.5"
  }
 },
 "nbformat": 4,
 "nbformat_minor": 2
}
